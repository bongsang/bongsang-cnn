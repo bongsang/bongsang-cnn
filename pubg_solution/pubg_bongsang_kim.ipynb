{
 "cells": [
  {
   "cell_type": "markdown",
   "metadata": {},
   "source": [
    "## Pubg\n",
    "### Bongsang Kim"
   ]
  },
  {
   "cell_type": "code",
   "execution_count": 14,
   "metadata": {},
   "outputs": [],
   "source": [
    "from keras.preprocessing.image import ImageDataGenerator\n",
    "from keras.models import Sequential\n",
    "from keras.layers import Conv2D, MaxPooling2D\n",
    "from keras.layers import Activation, Dropout, Flatten, Dense\n",
    "from keras import backend as K\n",
    "from keras.models import load_model\n",
    "import numpy as np\n",
    "import matplotlib.pyplot as plt\n",
    "\n",
    "%matplotlib inline"
   ]
  },
  {
   "cell_type": "markdown",
   "metadata": {},
   "source": [
    "### Data Setup"
   ]
  },
  {
   "cell_type": "code",
   "execution_count": 2,
   "metadata": {},
   "outputs": [],
   "source": [
    "img_width, img_height = 224, 224\n",
    "train_data_dir = 'data/train'\n",
    "validation_data_dir = 'data/validation'\n",
    "nb_train_samples = 2000\n",
    "nb_validation_samples = 800\n",
    "data_channel_first = True"
   ]
  },
  {
   "cell_type": "code",
   "execution_count": 3,
   "metadata": {},
   "outputs": [],
   "source": [
    "if K.image_data_format() == data_channel_first:\n",
    "    input_shape = (3, img_width, img_height)\n",
    "else:\n",
    "    input_shape = (img_width, img_height, 3)"
   ]
  },
  {
   "cell_type": "markdown",
   "metadata": {},
   "source": [
    "### Hyperparameters"
   ]
  },
  {
   "cell_type": "code",
   "execution_count": 4,
   "metadata": {},
   "outputs": [],
   "source": [
    "kernel = (3, 3)\n",
    "stride = (1, 1)\n",
    "pool = (3, 3)\n",
    "\n",
    "epochs = 100\n",
    "batch_size = 16"
   ]
  },
  {
   "cell_type": "markdown",
   "metadata": {},
   "source": [
    "### Convolution Networks"
   ]
  },
  {
   "cell_type": "code",
   "execution_count": 5,
   "metadata": {},
   "outputs": [
    {
     "name": "stdout",
     "output_type": "stream",
     "text": [
      "Found 8000 images belonging to 2 classes.\n",
      "Found 2000 images belonging to 2 classes.\n",
      "Epoch 1/100\n",
      "125/125 [==============================] - 16s 128ms/step - loss: 0.6930 - acc: 0.5265 - val_loss: 0.6693 - val_acc: 0.6325\n",
      "Epoch 2/100\n",
      "125/125 [==============================] - 15s 117ms/step - loss: 0.6644 - acc: 0.6045 - val_loss: 0.6232 - val_acc: 0.6625\n",
      "Epoch 3/100\n",
      "125/125 [==============================] - 14s 115ms/step - loss: 0.6348 - acc: 0.6545 - val_loss: 0.6037 - val_acc: 0.7113\n",
      "Epoch 4/100\n",
      "125/125 [==============================] - 14s 116ms/step - loss: 0.6117 - acc: 0.6725 - val_loss: 0.6119 - val_acc: 0.6675\n",
      "Epoch 5/100\n",
      "125/125 [==============================] - 14s 116ms/step - loss: 0.6106 - acc: 0.6650 - val_loss: 0.5685 - val_acc: 0.6825\n",
      "Epoch 6/100\n",
      "125/125 [==============================] - 14s 114ms/step - loss: 0.5851 - acc: 0.6995 - val_loss: 0.5919 - val_acc: 0.6737\n",
      "Epoch 7/100\n",
      "125/125 [==============================] - 14s 115ms/step - loss: 0.5806 - acc: 0.6965 - val_loss: 0.5090 - val_acc: 0.7625\n",
      "Epoch 8/100\n",
      "125/125 [==============================] - 14s 116ms/step - loss: 0.5281 - acc: 0.7330 - val_loss: 0.5097 - val_acc: 0.7638\n",
      "Epoch 9/100\n",
      "125/125 [==============================] - 14s 115ms/step - loss: 0.5446 - acc: 0.7275 - val_loss: 0.5038 - val_acc: 0.7575\n",
      "Epoch 10/100\n",
      "125/125 [==============================] - 14s 116ms/step - loss: 0.5379 - acc: 0.7425 - val_loss: 0.4391 - val_acc: 0.7963\n",
      "Epoch 11/100\n",
      "125/125 [==============================] - 14s 116ms/step - loss: 0.5058 - acc: 0.7565 - val_loss: 0.4779 - val_acc: 0.7712\n",
      "Epoch 12/100\n",
      "125/125 [==============================] - 14s 116ms/step - loss: 0.5222 - acc: 0.7395 - val_loss: 0.4810 - val_acc: 0.7825\n",
      "Epoch 13/100\n",
      "125/125 [==============================] - 14s 116ms/step - loss: 0.5001 - acc: 0.7610 - val_loss: 0.4979 - val_acc: 0.7575\n",
      "Epoch 14/100\n",
      "125/125 [==============================] - 15s 116ms/step - loss: 0.4945 - acc: 0.7805 - val_loss: 0.4764 - val_acc: 0.7875\n",
      "Epoch 15/100\n",
      "125/125 [==============================] - 15s 117ms/step - loss: 0.4948 - acc: 0.7715 - val_loss: 0.4533 - val_acc: 0.7975\n",
      "Epoch 16/100\n",
      "125/125 [==============================] - 15s 116ms/step - loss: 0.4857 - acc: 0.7710 - val_loss: 0.4511 - val_acc: 0.8000\n",
      "Epoch 17/100\n",
      "125/125 [==============================] - 15s 118ms/step - loss: 0.4748 - acc: 0.7840 - val_loss: 0.4458 - val_acc: 0.7987\n",
      "Epoch 18/100\n",
      "125/125 [==============================] - 14s 115ms/step - loss: 0.4616 - acc: 0.7825 - val_loss: 0.4098 - val_acc: 0.8163\n",
      "Epoch 19/100\n",
      "125/125 [==============================] - 15s 116ms/step - loss: 0.4785 - acc: 0.7790 - val_loss: 0.4646 - val_acc: 0.7800\n",
      "Epoch 20/100\n",
      "125/125 [==============================] - 14s 116ms/step - loss: 0.4696 - acc: 0.7920 - val_loss: 0.5203 - val_acc: 0.7625\n",
      "Epoch 21/100\n",
      "125/125 [==============================] - 14s 115ms/step - loss: 0.4528 - acc: 0.8035 - val_loss: 0.4109 - val_acc: 0.8237\n",
      "Epoch 22/100\n",
      "125/125 [==============================] - 14s 116ms/step - loss: 0.4363 - acc: 0.8070 - val_loss: 0.4639 - val_acc: 0.7937\n",
      "Epoch 23/100\n",
      "125/125 [==============================] - 14s 115ms/step - loss: 0.4365 - acc: 0.8125 - val_loss: 0.3757 - val_acc: 0.8287\n",
      "Epoch 24/100\n",
      "125/125 [==============================] - 16s 126ms/step - loss: 0.4526 - acc: 0.7935 - val_loss: 0.4546 - val_acc: 0.7937\n",
      "Epoch 25/100\n",
      "125/125 [==============================] - 15s 118ms/step - loss: 0.4207 - acc: 0.8070 - val_loss: 0.4059 - val_acc: 0.8063\n",
      "Epoch 26/100\n",
      "125/125 [==============================] - 14s 114ms/step - loss: 0.4650 - acc: 0.7950 - val_loss: 0.3993 - val_acc: 0.8113\n",
      "Epoch 27/100\n",
      "125/125 [==============================] - 15s 116ms/step - loss: 0.4341 - acc: 0.8075 - val_loss: 0.3853 - val_acc: 0.8263\n",
      "Epoch 28/100\n",
      "125/125 [==============================] - 14s 115ms/step - loss: 0.4374 - acc: 0.8095 - val_loss: 0.5353 - val_acc: 0.7925\n",
      "Epoch 29/100\n",
      "125/125 [==============================] - 14s 116ms/step - loss: 0.4143 - acc: 0.8225 - val_loss: 0.4093 - val_acc: 0.8175\n",
      "Epoch 30/100\n",
      "125/125 [==============================] - 14s 115ms/step - loss: 0.4328 - acc: 0.7990 - val_loss: 0.4646 - val_acc: 0.8013\n",
      "Epoch 31/100\n",
      "125/125 [==============================] - 14s 115ms/step - loss: 0.4147 - acc: 0.8110 - val_loss: 0.3225 - val_acc: 0.8625\n",
      "Epoch 32/100\n",
      "125/125 [==============================] - 15s 119ms/step - loss: 0.4377 - acc: 0.8080 - val_loss: 0.3865 - val_acc: 0.8200\n",
      "Epoch 33/100\n",
      "125/125 [==============================] - 15s 116ms/step - loss: 0.4097 - acc: 0.8220 - val_loss: 0.4669 - val_acc: 0.8050\n",
      "Epoch 34/100\n",
      "125/125 [==============================] - 15s 117ms/step - loss: 0.4289 - acc: 0.8130 - val_loss: 0.3946 - val_acc: 0.8237\n",
      "Epoch 35/100\n",
      "125/125 [==============================] - 14s 116ms/step - loss: 0.3984 - acc: 0.8345 - val_loss: 0.4420 - val_acc: 0.8225\n",
      "Epoch 36/100\n",
      "125/125 [==============================] - 14s 116ms/step - loss: 0.4267 - acc: 0.8145 - val_loss: 0.3633 - val_acc: 0.8387\n",
      "Epoch 37/100\n",
      "125/125 [==============================] - 14s 114ms/step - loss: 0.4176 - acc: 0.8250 - val_loss: 0.4594 - val_acc: 0.7900\n",
      "Epoch 38/100\n",
      "125/125 [==============================] - 14s 115ms/step - loss: 0.3918 - acc: 0.8315 - val_loss: 0.3703 - val_acc: 0.8387\n",
      "Epoch 39/100\n",
      "125/125 [==============================] - 14s 116ms/step - loss: 0.3993 - acc: 0.8360 - val_loss: 0.4303 - val_acc: 0.8200\n",
      "Epoch 40/100\n",
      "125/125 [==============================] - 14s 113ms/step - loss: 0.4538 - acc: 0.8005 - val_loss: 0.4179 - val_acc: 0.8263\n",
      "Epoch 41/100\n",
      "125/125 [==============================] - 14s 114ms/step - loss: 0.3809 - acc: 0.8345 - val_loss: 0.4808 - val_acc: 0.8175\n",
      "Epoch 42/100\n",
      "125/125 [==============================] - 14s 114ms/step - loss: 0.4029 - acc: 0.8290 - val_loss: 0.4815 - val_acc: 0.8387\n",
      "Epoch 43/100\n",
      "125/125 [==============================] - 14s 112ms/step - loss: 0.4272 - acc: 0.8185 - val_loss: 0.3789 - val_acc: 0.8300\n",
      "Epoch 44/100\n",
      "125/125 [==============================] - 14s 116ms/step - loss: 0.3894 - acc: 0.8345 - val_loss: 0.4227 - val_acc: 0.8075\n",
      "Epoch 45/100\n",
      "125/125 [==============================] - 14s 113ms/step - loss: 0.3973 - acc: 0.8240 - val_loss: 0.3466 - val_acc: 0.8550\n",
      "Epoch 46/100\n",
      "125/125 [==============================] - 15s 116ms/step - loss: 0.4113 - acc: 0.8185 - val_loss: 0.3835 - val_acc: 0.8337\n",
      "Epoch 47/100\n",
      "125/125 [==============================] - 15s 117ms/step - loss: 0.3975 - acc: 0.8460 - val_loss: 0.3908 - val_acc: 0.8387\n",
      "Epoch 48/100\n",
      "125/125 [==============================] - 15s 117ms/step - loss: 0.3766 - acc: 0.8455 - val_loss: 0.4722 - val_acc: 0.7887\n",
      "Epoch 49/100\n",
      "125/125 [==============================] - 14s 113ms/step - loss: 0.4014 - acc: 0.8315 - val_loss: 0.3699 - val_acc: 0.8488\n",
      "Epoch 50/100\n",
      "125/125 [==============================] - 14s 115ms/step - loss: 0.3813 - acc: 0.8405 - val_loss: 0.3669 - val_acc: 0.8475\n",
      "Epoch 51/100\n",
      "125/125 [==============================] - 14s 115ms/step - loss: 0.3743 - acc: 0.8485 - val_loss: 0.4115 - val_acc: 0.8200\n",
      "Epoch 52/100\n",
      "125/125 [==============================] - 14s 116ms/step - loss: 0.4129 - acc: 0.8195 - val_loss: 0.3483 - val_acc: 0.8588\n",
      "Epoch 53/100\n",
      "125/125 [==============================] - 14s 116ms/step - loss: 0.3784 - acc: 0.8370 - val_loss: 0.5181 - val_acc: 0.7937\n",
      "Epoch 54/100\n",
      "125/125 [==============================] - 14s 116ms/step - loss: 0.3919 - acc: 0.8250 - val_loss: 0.3453 - val_acc: 0.8525\n",
      "Epoch 55/100\n",
      "125/125 [==============================] - 15s 116ms/step - loss: 0.4071 - acc: 0.8250 - val_loss: 0.3720 - val_acc: 0.8313\n",
      "Epoch 56/100\n",
      "125/125 [==============================] - 15s 116ms/step - loss: 0.3781 - acc: 0.8400 - val_loss: 0.3236 - val_acc: 0.8538\n",
      "Epoch 57/100\n",
      "125/125 [==============================] - 15s 117ms/step - loss: 0.3759 - acc: 0.8395 - val_loss: 0.3941 - val_acc: 0.8363\n",
      "Epoch 58/100\n",
      "125/125 [==============================] - 14s 115ms/step - loss: 0.3888 - acc: 0.8395 - val_loss: 0.3673 - val_acc: 0.8600\n",
      "Epoch 59/100\n",
      "125/125 [==============================] - 15s 117ms/step - loss: 0.4011 - acc: 0.8265 - val_loss: 0.3714 - val_acc: 0.8413\n",
      "Epoch 60/100\n"
     ]
    },
    {
     "name": "stdout",
     "output_type": "stream",
     "text": [
      "125/125 [==============================] - 14s 115ms/step - loss: 0.3993 - acc: 0.8370 - val_loss: 0.3405 - val_acc: 0.8600\n",
      "Epoch 61/100\n",
      "125/125 [==============================] - 14s 112ms/step - loss: 0.3858 - acc: 0.8435 - val_loss: 0.3332 - val_acc: 0.8738\n",
      "Epoch 62/100\n",
      "125/125 [==============================] - 14s 114ms/step - loss: 0.3865 - acc: 0.8315 - val_loss: 0.3791 - val_acc: 0.8350\n",
      "Epoch 63/100\n",
      "125/125 [==============================] - 14s 115ms/step - loss: 0.3768 - acc: 0.8405 - val_loss: 0.4092 - val_acc: 0.8500\n",
      "Epoch 64/100\n",
      "125/125 [==============================] - 14s 114ms/step - loss: 0.3762 - acc: 0.8460 - val_loss: 0.3569 - val_acc: 0.8500\n",
      "Epoch 65/100\n",
      "125/125 [==============================] - 14s 115ms/step - loss: 0.3816 - acc: 0.8390 - val_loss: 0.3480 - val_acc: 0.8538\n",
      "Epoch 66/100\n",
      "125/125 [==============================] - 15s 116ms/step - loss: 0.3754 - acc: 0.8395 - val_loss: 0.4227 - val_acc: 0.8075\n",
      "Epoch 67/100\n",
      "125/125 [==============================] - 14s 116ms/step - loss: 0.3725 - acc: 0.8445 - val_loss: 0.3898 - val_acc: 0.8213\n",
      "Epoch 68/100\n",
      "125/125 [==============================] - 14s 115ms/step - loss: 0.3824 - acc: 0.8305 - val_loss: 0.3880 - val_acc: 0.8638\n",
      "Epoch 69/100\n",
      "125/125 [==============================] - 15s 117ms/step - loss: 0.3915 - acc: 0.8350 - val_loss: 0.3544 - val_acc: 0.8688\n",
      "Epoch 70/100\n",
      "125/125 [==============================] - 14s 115ms/step - loss: 0.3705 - acc: 0.8410 - val_loss: 0.3974 - val_acc: 0.8125\n",
      "Epoch 71/100\n",
      "125/125 [==============================] - 14s 116ms/step - loss: 0.3794 - acc: 0.8360 - val_loss: 0.3384 - val_acc: 0.8575\n",
      "Epoch 72/100\n",
      "125/125 [==============================] - 14s 115ms/step - loss: 0.3778 - acc: 0.8425 - val_loss: 0.3274 - val_acc: 0.8638\n",
      "Epoch 73/100\n",
      "125/125 [==============================] - 15s 117ms/step - loss: 0.3822 - acc: 0.8360 - val_loss: 0.3209 - val_acc: 0.8712\n",
      "Epoch 74/100\n",
      "125/125 [==============================] - 15s 116ms/step - loss: 0.3410 - acc: 0.8605 - val_loss: 0.3315 - val_acc: 0.8662\n",
      "Epoch 75/100\n",
      "125/125 [==============================] - 15s 117ms/step - loss: 0.3677 - acc: 0.8450 - val_loss: 0.3563 - val_acc: 0.8438\n",
      "Epoch 76/100\n",
      "125/125 [==============================] - 14s 114ms/step - loss: 0.3798 - acc: 0.8445 - val_loss: 0.3331 - val_acc: 0.8500\n",
      "Epoch 77/100\n",
      "125/125 [==============================] - 14s 116ms/step - loss: 0.3711 - acc: 0.8530 - val_loss: 0.4635 - val_acc: 0.8137\n",
      "Epoch 78/100\n",
      "125/125 [==============================] - 15s 117ms/step - loss: 0.3761 - acc: 0.8465 - val_loss: 0.4256 - val_acc: 0.8488\n",
      "Epoch 79/100\n",
      "125/125 [==============================] - 15s 116ms/step - loss: 0.3727 - acc: 0.8450 - val_loss: 0.3251 - val_acc: 0.8512\n",
      "Epoch 80/100\n",
      "125/125 [==============================] - 15s 117ms/step - loss: 0.3729 - acc: 0.8500 - val_loss: 0.3457 - val_acc: 0.8625\n",
      "Epoch 81/100\n",
      "125/125 [==============================] - 15s 117ms/step - loss: 0.3511 - acc: 0.8465 - val_loss: 0.3439 - val_acc: 0.8675\n",
      "Epoch 82/100\n",
      "125/125 [==============================] - 15s 116ms/step - loss: 0.3556 - acc: 0.8445 - val_loss: 0.3833 - val_acc: 0.8425\n",
      "Epoch 83/100\n",
      "125/125 [==============================] - 14s 115ms/step - loss: 0.3563 - acc: 0.8480 - val_loss: 0.3643 - val_acc: 0.8337\n",
      "Epoch 84/100\n",
      "125/125 [==============================] - 14s 116ms/step - loss: 0.3630 - acc: 0.8510 - val_loss: 0.3828 - val_acc: 0.8325\n",
      "Epoch 85/100\n",
      "125/125 [==============================] - 15s 117ms/step - loss: 0.3731 - acc: 0.8520 - val_loss: 0.3816 - val_acc: 0.8462\n",
      "Epoch 86/100\n",
      "125/125 [==============================] - 14s 112ms/step - loss: 0.3523 - acc: 0.8560 - val_loss: 0.4974 - val_acc: 0.8450\n",
      "Epoch 87/100\n",
      "125/125 [==============================] - 14s 112ms/step - loss: 0.3800 - acc: 0.8420 - val_loss: 0.3443 - val_acc: 0.8575\n",
      "Epoch 88/100\n",
      "125/125 [==============================] - 15s 116ms/step - loss: 0.3502 - acc: 0.8595 - val_loss: 0.3289 - val_acc: 0.8612\n",
      "Epoch 89/100\n",
      "125/125 [==============================] - 15s 121ms/step - loss: 0.3565 - acc: 0.8540 - val_loss: 0.3222 - val_acc: 0.8588\n",
      "Epoch 90/100\n",
      "125/125 [==============================] - 15s 121ms/step - loss: 0.3441 - acc: 0.8610 - val_loss: 0.3611 - val_acc: 0.8675\n",
      "Epoch 91/100\n",
      "125/125 [==============================] - 15s 118ms/step - loss: 0.3553 - acc: 0.8620 - val_loss: 0.3709 - val_acc: 0.8538\n",
      "Epoch 92/100\n",
      "125/125 [==============================] - 15s 117ms/step - loss: 0.3612 - acc: 0.8465 - val_loss: 0.3458 - val_acc: 0.8538\n",
      "Epoch 93/100\n",
      "125/125 [==============================] - 14s 115ms/step - loss: 0.3718 - acc: 0.8460 - val_loss: 0.4345 - val_acc: 0.8225\n",
      "Epoch 94/100\n",
      "125/125 [==============================] - 15s 116ms/step - loss: 0.3460 - acc: 0.8545 - val_loss: 0.3345 - val_acc: 0.8600\n",
      "Epoch 95/100\n",
      "125/125 [==============================] - 14s 114ms/step - loss: 0.3576 - acc: 0.8605 - val_loss: 0.3536 - val_acc: 0.8638\n",
      "Epoch 96/100\n",
      "125/125 [==============================] - 14s 113ms/step - loss: 0.3622 - acc: 0.8570 - val_loss: 0.4444 - val_acc: 0.8200\n",
      "Epoch 97/100\n",
      "125/125 [==============================] - 15s 118ms/step - loss: 0.3707 - acc: 0.8575 - val_loss: 0.3617 - val_acc: 0.8275\n",
      "Epoch 98/100\n",
      "125/125 [==============================] - 15s 116ms/step - loss: 0.3617 - acc: 0.8415 - val_loss: 0.3799 - val_acc: 0.8263\n",
      "Epoch 99/100\n",
      "125/125 [==============================] - 14s 112ms/step - loss: 0.3606 - acc: 0.8515 - val_loss: 0.4762 - val_acc: 0.7925\n",
      "Epoch 100/100\n",
      "125/125 [==============================] - 15s 117ms/step - loss: 0.3551 - acc: 0.8560 - val_loss: 0.3508 - val_acc: 0.8500\n"
     ]
    }
   ],
   "source": [
    "model = Sequential()\n",
    "model.add(Conv2D(32, kernel_size=kernel, strides=stride, input_shape=input_shape))\n",
    "model.add(Activation('relu'))\n",
    "model.add(MaxPooling2D(pool_size=pool))\n",
    "\n",
    "model.add(Conv2D(32, kernel_size=kernel, strides=stride))\n",
    "model.add(Activation('relu'))\n",
    "model.add(MaxPooling2D(pool_size=pool))\n",
    "\n",
    "model.add(Conv2D(64, kernel_size=kernel, strides=stride, name='3rd_conv_layer'))\n",
    "model.add(Activation('relu'))\n",
    "model.add(MaxPooling2D(pool_size=pool))\n",
    "\n",
    "model.add(Flatten())\n",
    "model.add(Dense(64))\n",
    "model.add(Activation('relu'))\n",
    "model.add(Dropout(0.5))\n",
    "model.add(Dense(1))\n",
    "model.add(Activation('sigmoid'))\n",
    "\n",
    "model.compile(loss='binary_crossentropy',\n",
    "              optimizer='rmsprop',\n",
    "              metrics=['accuracy'])\n",
    "\n",
    "# this is the augmentation configuration we will use for train\n",
    "train_datagen = ImageDataGenerator(\n",
    "    rescale=1. / 255,\n",
    "    shear_range=0.2,\n",
    "    zoom_range=0.2,\n",
    "    horizontal_flip=True)\n",
    "\n",
    "# this is the augmentation configuration we will use for validation:\n",
    "# only rescaling\n",
    "test_datagen = ImageDataGenerator(rescale=1. / 255)\n",
    "\n",
    "train_generator = train_datagen.flow_from_directory(\n",
    "    train_data_dir,\n",
    "    target_size=(img_width, img_height),\n",
    "    batch_size=batch_size,\n",
    "    class_mode='binary')\n",
    "\n",
    "validation_generator = test_datagen.flow_from_directory(\n",
    "    validation_data_dir,\n",
    "    target_size=(img_width, img_height),\n",
    "    batch_size=batch_size,\n",
    "    class_mode='binary')\n",
    "\n",
    "history = model.fit_generator(\n",
    "    train_generator,\n",
    "    steps_per_epoch=nb_train_samples // batch_size,\n",
    "    epochs=epochs,\n",
    "    validation_data=validation_generator,\n",
    "    validation_steps=nb_validation_samples // batch_size)\n",
    "\n",
    "model.save_weights('pubg_model.h5')"
   ]
  },
  {
   "cell_type": "markdown",
   "metadata": {},
   "source": [
    "### Train history"
   ]
  },
  {
   "cell_type": "code",
   "execution_count": 6,
   "metadata": {},
   "outputs": [
    {
     "data": {
      "image/png": "[encoded data removed]",
      "text/plain": [
       "<Figure size 432x288 with 1 Axes>"
      ]
     },
     "metadata": {
      "needs_background": "light"
     },
     "output_type": "display_data"
    },
    {
     "data": {
      "image/png": "[encoded data removed]",
      "text/plain": [
       "<Figure size 432x288 with 1 Axes>"
      ]
     },
     "metadata": {
      "needs_background": "light"
     },
     "output_type": "display_data"
    }
   ],
   "source": [
    "# Plot training & validation loss values\n",
    "plt.plot(history.history['loss'])\n",
    "plt.plot(history.history['val_loss'])\n",
    "plt.title('Model loss')\n",
    "plt.ylabel('Loss')\n",
    "plt.xlabel('Epoch')\n",
    "plt.legend(['Train', 'Test'], loc='upper left')\n",
    "plt.show()\n",
    "\n",
    "# Plot training & validation accuracy values\n",
    "plt.plot(history.history['acc'])\n",
    "plt.plot(history.history['val_acc'])\n",
    "plt.title('Model accuracy')\n",
    "plt.ylabel('Accuracy')\n",
    "plt.xlabel('Epoch')\n",
    "plt.legend(['Train', 'Test'], loc='upper left')\n",
    "plt.show()"
   ]
  },
  {
   "cell_type": "markdown",
   "metadata": {},
   "source": [
    "### Gradient"
   ]
  },
  {
   "cell_type": "code",
   "execution_count": 8,
   "metadata": {},
   "outputs": [],
   "source": [
    "images = ['data/input/1.jpg',\n",
    "          'data/input/2.jpg',\n",
    "          'data/input/3.jpg']"
   ]
  },
  {
   "cell_type": "code",
   "execution_count": 15,
   "metadata": {},
   "outputs": [
    {
     "ename": "ValueError",
     "evalue": "Cannot load file containing pickled data when allow_pickle=False",
     "output_type": "error",
     "traceback": [
      "\u001b[0;31m---------------------------------------------------------------------------\u001b[0m",
      "\u001b[0;31mValueError\u001b[0m                                Traceback (most recent call last)",
      "\u001b[0;32m<ipython-input-15-cf05cc7dd884>\u001b[0m in \u001b[0;36m<module>\u001b[0;34m\u001b[0m\n\u001b[1;32m      2\u001b[0m \u001b[0;34m\u001b[0m\u001b[0m\n\u001b[1;32m      3\u001b[0m \u001b[0;32mfor\u001b[0m \u001b[0midx\u001b[0m\u001b[0;34m,\u001b[0m \u001b[0mimage\u001b[0m \u001b[0;32min\u001b[0m \u001b[0menumerate\u001b[0m\u001b[0;34m(\u001b[0m\u001b[0mimages\u001b[0m\u001b[0;34m)\u001b[0m\u001b[0;34m:\u001b[0m\u001b[0;34m\u001b[0m\u001b[0;34m\u001b[0m\u001b[0m\n\u001b[0;32m----> 4\u001b[0;31m     \u001b[0minput_img\u001b[0m \u001b[0;34m=\u001b[0m \u001b[0mnp\u001b[0m\u001b[0;34m.\u001b[0m\u001b[0mload\u001b[0m\u001b[0;34m(\u001b[0m\u001b[0mimage\u001b[0m\u001b[0;34m)\u001b[0m\u001b[0;34m\u001b[0m\u001b[0;34m\u001b[0m\u001b[0m\n\u001b[0m\u001b[1;32m      5\u001b[0m \u001b[0;34m\u001b[0m\u001b[0m\n\u001b[1;32m      6\u001b[0m     \u001b[0mlayer_dict\u001b[0m \u001b[0;34m=\u001b[0m \u001b[0mdict\u001b[0m\u001b[0;34m(\u001b[0m\u001b[0;34m[\u001b[0m\u001b[0;34m(\u001b[0m\u001b[0mlayer\u001b[0m\u001b[0;34m.\u001b[0m\u001b[0mname\u001b[0m\u001b[0;34m,\u001b[0m \u001b[0mlayer\u001b[0m\u001b[0;34m)\u001b[0m \u001b[0;32mfor\u001b[0m \u001b[0mlayer\u001b[0m \u001b[0;32min\u001b[0m \u001b[0mload_model\u001b[0m\u001b[0;34m.\u001b[0m\u001b[0mlayers\u001b[0m\u001b[0;34m]\u001b[0m\u001b[0;34m)\u001b[0m\u001b[0;34m\u001b[0m\u001b[0;34m\u001b[0m\u001b[0m\n",
      "\u001b[0;32m~/anaconda3/lib/python3.7/site-packages/numpy/lib/npyio.py\u001b[0m in \u001b[0;36mload\u001b[0;34m(file, mmap_mode, allow_pickle, fix_imports, encoding)\u001b[0m\n\u001b[1;32m    449\u001b[0m             \u001b[0;31m# Try a pickle\u001b[0m\u001b[0;34m\u001b[0m\u001b[0;34m\u001b[0m\u001b[0;34m\u001b[0m\u001b[0m\n\u001b[1;32m    450\u001b[0m             \u001b[0;32mif\u001b[0m \u001b[0;32mnot\u001b[0m \u001b[0mallow_pickle\u001b[0m\u001b[0;34m:\u001b[0m\u001b[0;34m\u001b[0m\u001b[0;34m\u001b[0m\u001b[0m\n\u001b[0;32m--> 451\u001b[0;31m                 raise ValueError(\"Cannot load file containing pickled data \"\n\u001b[0m\u001b[1;32m    452\u001b[0m                                  \"when allow_pickle=False\")\n\u001b[1;32m    453\u001b[0m             \u001b[0;32mtry\u001b[0m\u001b[0;34m:\u001b[0m\u001b[0;34m\u001b[0m\u001b[0;34m\u001b[0m\u001b[0m\n",
      "\u001b[0;31mValueError\u001b[0m: Cannot load file containing pickled data when allow_pickle=False"
     ]
    }
   ],
   "source": [
    "load_model = model.load_weights('./pubg_model.h5')\n",
    "\n",
    "for idx, image in enumerate(images):\n",
    "    input_img = np.load(image)\n",
    "\n",
    "    layer_dict = dict([(layer.name, layer) for layer in load_model.layers])\n",
    "\n",
    "    layer_name = '3rd_conv_layer'\n",
    "    filter_index = 0\n",
    "\n",
    "    layer_output = layer_dict[layer_name].output\n",
    "    loss = K.mean(layer_output[:, :, :, filter_index])\n",
    "\n",
    "    grads = K.gradients(loss, input_img)[0]\n",
    "\n",
    "    grads /= (K.sqrt(K.mean(K.square(grads))) + 1e-5)\n",
    "\n",
    "    out_file = open('data/input/' + idx + '_outtext.txt','w')\n",
    "    gradient_file = open('data/input/' + idx + '_gradient.txt', 'w')\n",
    "    \n",
    "    out_file.write(loss)\n",
    "    gradient_file.write(grads)\n",
    "    \n",
    "    out_file.close()\n",
    "    gradient_file.close()"
   ]
  },
  {
   "cell_type": "markdown",
   "metadata": {},
   "source": [
    "### Thanks!\n",
    "### Bongsang"
   ]
  },
  {
   "cell_type": "code",
   "execution_count": null,
   "metadata": {},
   "outputs": [],
   "source": []
  }
 ],
 "metadata": {
  "kernelspec": {
   "display_name": "Python 3",
   "language": "python",
   "name": "python3"
  },
  "language_info": {
   "codemirror_mode": {
    "name": "ipython",
    "version": 3
   },
   "file_extension": ".py",
   "mimetype": "text/x-python",
   "name": "python",
   "nbconvert_exporter": "python",
   "pygments_lexer": "ipython3",
   "version": "3.7.3"
  }
 },
 "nbformat": 4,
 "nbformat_minor": 2
}
